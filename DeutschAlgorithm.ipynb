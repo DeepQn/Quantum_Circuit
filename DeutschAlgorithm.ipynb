{
 "cells": [
  {
   "cell_type": "code",
   "execution_count": 1,
   "metadata": {},
   "outputs": [],
   "source": [
    "from qiskit import *"
   ]
  },
  {
   "cell_type": "code",
   "execution_count": 2,
   "metadata": {},
   "outputs": [],
   "source": [
    "import numpy as np\n",
    "import math as m\n",
    "import scipy as sci"
   ]
  },
  {
   "cell_type": "code",
   "execution_count": 3,
   "metadata": {},
   "outputs": [],
   "source": [
    "S_simulator = Aer.get_backend('statevector_simulator')\n",
    "M_simulator = Aer.get_backend('qasm_simulator')"
   ]
  },
  {
   "cell_type": "code",
   "execution_count": 22,
   "metadata": {},
   "outputs": [],
   "source": [
    "def BlackBox_g_D(qc, qreg):\n",
    "    f_type = ['f(0,1) -> (0,1)', 'f(0,1) -> (1,0)', 'f(0,1) -> 0', 'f(0,1) -> 1']\n",
    "    r = int(m.floor(4*sci.rand()))\n",
    "    \n",
    "    if r==0:\n",
    "        qc.cx(qreg[0], qreg[1])\n",
    "    if r==1:\n",
    "        qc.x(qreg[0])\n",
    "        qc.cx(qreg[0], qreg[1])\n",
    "        qc.x(qreg[0])\n",
    "    if r==2:\n",
    "        qc.iden(qreg[0])\n",
    "        qc.iden(qreg[1])\n",
    "    if r==3:\n",
    "        qc.x(qreg[1])\n",
    "        \n",
    "    return f_type[r]\n",
    "    "
   ]
  },
  {
   "cell_type": "code",
   "execution_count": 32,
   "metadata": {},
   "outputs": [
    {
     "data": {
      "image/png": "[encoded data removed]",
      "text/plain": [
       "<Figure size 709.156x204.68 with 1 Axes>"
      ]
     },
     "execution_count": 32,
     "metadata": {},
     "output_type": "execute_result"
    }
   ],
   "source": [
    "qr = QuantumRegister(2)\n",
    "cr = ClassicalRegister(2)\n",
    "\n",
    "circuit = QuantumCircuit(qr, cr)\n",
    "\n",
    "circuit.x(qr[1])\n",
    "circuit.barrier()\n",
    "\n",
    "circuit.h(qr[0])\n",
    "circuit.h(qr[1])\n",
    "\n",
    "circuit.barrier()\n",
    "\n",
    "f = BlackBox_g_D(circuit, qr)\n",
    "\n",
    "circuit.h(qr[0])\n",
    "circuit.h(qr[1])\n",
    "\n",
    "circuit.measure(qr[0], cr[0])\n",
    "circuit.draw(output='mpl')"
   ]
  },
  {
   "cell_type": "code",
   "execution_count": 33,
   "metadata": {},
   "outputs": [],
   "source": [
    "result = execute(circuit, backend=S_simulator, shots=1).result()\n",
    "Qbit0 = list(result.get_counts(circuit).keys())[0][1]\n"
   ]
  },
  {
   "cell_type": "code",
   "execution_count": 34,
   "metadata": {},
   "outputs": [
    {
     "name": "stdout",
     "output_type": "stream",
     "text": [
      "f is a balanced function\n",
      "f:  f(0,1) -> (1,0)\n"
     ]
    }
   ],
   "source": [
    "if (Qbit0=='0'):\n",
    "    print('f is a constant function')\n",
    "else:\n",
    "    print('f is a balanced function')\n",
    "    \n",
    "print('f: ', f)"
   ]
  },
  {
   "cell_type": "markdown",
   "metadata": {},
   "source": [
    "# Running on quantum hardware"
   ]
  },
  {
   "cell_type": "code",
   "execution_count": 30,
   "metadata": {},
   "outputs": [],
   "source": [
    "IBMQ.load_account()\n",
    "provider = IBMQ.get_provider(hub = 'ibm-q')"
   ]
  },
  {
   "cell_type": "code",
   "execution_count": 31,
   "metadata": {},
   "outputs": [],
   "source": [
    "qcomp = provider.get_backend('ibmq_16_melbourne')"
   ]
  },
  {
   "cell_type": "code",
   "execution_count": 35,
   "metadata": {},
   "outputs": [
    {
     "data": {
      "application/vnd.jupyter.widget-view+json": {
       "model_id": "6d3911cfb6164b659373482d2c212b8d",
       "version_major": 2,
       "version_minor": 0
      },
      "text/plain": [
       "Accordion(children=(VBox(layout=Layout(max_width='710px', min_width='710px')),), layout=Layout(max_height='500…"
      ]
     },
     "metadata": {},
     "output_type": "display_data"
    },
    {
     "data": {
      "application/javascript": [
       "$('div.job_widget')\n",
       "        .detach()\n",
       "        .appendTo($('#header'))\n",
       "        .css({\n",
       "            'z-index': 999,\n",
       "             'position': 'fixed',\n",
       "            'box-shadow': '5px 5px 5px -3px black',\n",
       "            'opacity': 0.95,\n",
       "            'float': 'left,'\n",
       "        })\n",
       "        "
      ],
      "text/plain": [
       "<IPython.core.display.Javascript object>"
      ]
     },
     "metadata": {},
     "output_type": "display_data"
    }
   ],
   "source": [
    "import qiskit.tools.jupyter\n",
    "%qiskit_job_watcher"
   ]
  },
  {
   "cell_type": "code",
   "execution_count": 48,
   "metadata": {},
   "outputs": [],
   "source": [
    "job = execute(circuit, backend=qcomp, shots=1)"
   ]
  },
  {
   "cell_type": "code",
   "execution_count": 49,
   "metadata": {},
   "outputs": [
    {
     "name": "stdout",
     "output_type": "stream",
     "text": [
      "Job Status: job has successfully run\n"
     ]
    }
   ],
   "source": [
    "from qiskit.tools.monitor import job_monitor\n",
    "job_monitor(job)"
   ]
  },
  {
   "cell_type": "code",
   "execution_count": 50,
   "metadata": {},
   "outputs": [],
   "source": [
    "result = job.result()\n",
    "Qbit0 = list(result.get_counts(circuit).keys())[0][1]"
   ]
  },
  {
   "cell_type": "code",
   "execution_count": 51,
   "metadata": {},
   "outputs": [
    {
     "name": "stdout",
     "output_type": "stream",
     "text": [
      "f is a balanced function\n",
      "f:  f(0,1) -> (1,0)\n"
     ]
    }
   ],
   "source": [
    "if (Qbit0=='0'):\n",
    "    print('f is a constant function')\n",
    "else:\n",
    "    print('f is a balanced function')\n",
    "    \n",
    "print('f: ', f)"
   ]
  },
  {
   "cell_type": "code",
   "execution_count": null,
   "metadata": {},
   "outputs": [],
   "source": []
  }
 ],
 "metadata": {
  "kernelspec": {
   "display_name": "Python 3",
   "language": "python",
   "name": "python3"
  },
  "language_info": {
   "codemirror_mode": {
    "name": "ipython",
    "version": 3
   },
   "file_extension": ".py",
   "mimetype": "text/x-python",
   "name": "python",
   "nbconvert_exporter": "python",
   "pygments_lexer": "ipython3",
   "version": "3.7.4"
  }
 },
 "nbformat": 4,
 "nbformat_minor": 2
}
